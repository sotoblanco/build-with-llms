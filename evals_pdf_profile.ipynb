{
 "cells": [
  {
   "cell_type": "code",
   "execution_count": null,
   "id": "68e925bd",
   "metadata": {},
   "outputs": [],
   "source": [
    "import pandas as pd\n",
    "import ipywidgets as widgets\n",
    "from IPython.display import display, HTML, clear_output\n",
    "import json\n",
    "from datetime import datetime"
   ]
  },
  {
   "cell_type": "code",
   "execution_count": null,
   "id": "4c4ebb60",
   "metadata": {},
   "outputs": [],
   "source": [
    "# Load data and initialize DataFrame\n",
    "with open('test_answer.json', 'r') as file:\n",
    "    data = json.load(file)\n",
    "\n",
    "df = pd.DataFrame(data['rows'], columns=data['columns'])\n",
    "df['evaluation'] = 'Not Evaluated'\n",
    "df['comment'] = ''\n",
    "df['candidate_name'] = ''\n",
    "df['position'] = ''\n",
    "df['role_level'] = ''\n",
    "df['timestamp'] = ''"
   ]
  },
  {
   "cell_type": "code",
   "execution_count": 10,
   "id": "8db697b6",
   "metadata": {},
   "outputs": [
    {
     "data": {
      "text/plain": [
       "dict_keys(['ok', 'database', 'query_name', 'rows', 'truncated', 'columns', 'query', 'error', 'private', 'allow_execute_sql', 'query_ms'])"
      ]
     },
     "execution_count": 10,
     "metadata": {},
     "output_type": "execute_result"
    }
   ],
   "source": [
    "data.keys()"
   ]
  },
  {
   "cell_type": "code",
   "execution_count": 20,
   "id": "296fd743",
   "metadata": {},
   "outputs": [
    {
     "data": {
      "text/plain": [
       "['dc384399-cb1c-452c-81b6-ef211e112664',\n",
       " 'openai-gpt',\n",
       " \"\\n\\n    Extract the information from the PDF file, this is the information of the candidate. Write an email specific to the candidate skills offering a position in our company.\\n    The email should be professional and concise, highlighting the skills and experience that match the job description by addressing the role that the candidate will play in the company specific to their profile.\\n    Fill out all the candidate information in the email.\\n    The position of the role will be decided based on the candidate's skills and experience, and the level of the job will be specify based on the experience either Junio, Mid or Senior.\\n    Highlight skills, requirements, nice to have and responsabilities on the role that match with the canidates abilities\\n\\n    CONTEXT: who is this?\\n    QUESTION: [Page 1]: Contactar sotoblanco263542@gmail.com www.linkedin.com/in/pastor- soto-34215b125 (LinkedIn) www.upwork.com/freelancers/ ~01f0e01c4b962f32a5 (Personal) Aptitudes principales Object-Oriented Programming (OOP) PyTorch pandas Languages German (Professional Working) French (Professional Working) English (Native or Bilingual) Spanish (Native or Bilingual) Certifications Writing with Proper Punctuation Writing in Plain Language Introductory Human Physiology Introduction to Deep Learning with PyTorch Intermediate Deep Learning with PyTorch Pastor Soto Deeplearning.ai Mentor \\u200d | Data Scientist | Statistician | Programmer | Medical Student | Helping businesses in data-driven decisions Estado Mérida, Venezuela Extracto I am a statistical consultant with many years of professional experience in quantitative research and statistical methods using machine learning algorithms to help you make decisions in different areas, Business, Biostatistics, Psychology, Political Science, Research Methods, and Economics. I worked with tools such as: Programing language: -Python -R Database -Postgresql -Excel Visualization tools -Power BI -Tableau Statistical programs -STATA -SPSS My field of knowledge includes: -Sports analytics and betting strategies -Stock market analysis and trading system -Business analytics I have advanced knowledge of statistical modeling, classification, and predictions using Machine Learning algorithms which include: -Linear modeling -Logistic regression -Random Forest -Extreme Gradient Boost -KNN -SVM Page 1 of 2\\n\\n[Page 2]: Experiencia Profesional independiente Data Scientist mayo de 2018 - Present (7 años) Nabafat.AI Data Scientist marzo de 2023 - febrero de 2024 (1 año) United States Educación Universidad de los Andes (VE) Bachelor's degree, Medicine · (noviembre de 2016 - agosto de 2025) Universidad de los Andes (VE) Master's degree, Political Science and Government · (febrero de 2016 - octubre de 2023) Universidad de los Andes (VE) Bachelor's degree, Criminology · (marzo de 2009 - marzo de 2015) Page 2 of 2\\n    \",\n",
       " 'Email',\n",
       " 'Subject: Exciting Opportunity for a Data Scientist Role at [Your Company]\\n\\nDear Pastor Soto,\\n\\nI hope this message finds you well. I am reaching out to offer you a position at [Your Company], where your extensive expertise in data science, machine learning, and statistical analysis aligns perfectly with our current needs.\\n\\nBased on your impressive background as a Data Scientist with over 7 years of experience, including your recent role at Nabafat.AI, we believe you would be an excellent fit for a Mid to Senior level Data Scientist position. Your proficiency in Python, PyTorch, pandas, and your advanced knowledge of machine learning algorithms such as Random Forest, Extreme Gradient Boosting, SVM, and KNN are highly valuable to our team.\\n\\nYour skills in statistical modeling, classification, and prediction, combined with your experience in business analytics, sports analytics, and stock market analysis, will enable you to contribute significantly to our data-driven decision-making processes. Additionally, your multilingual capabilities in English, Spanish, French, and German will be advantageous in our diverse and global environment.\\n\\nKey responsibilities for this role include developing and deploying machine learning models, analyzing complex datasets, and providing actionable insights to support strategic initiatives. Your background in research methods and experience with visualization tools like Power BI and Tableau will further enhance our analytical capabilities.\\n\\nWe are excited about the possibility of you joining our team and leveraging your skills to drive innovative solutions. Please let us know your availability for a discussion.\\n\\nThank you for considering this opportunity. We look forward to the possibility of working together.\\n\\nBest regards,  \\n[Your Name]  \\n[Your Position]  \\n[Your Company]  \\n[Contact Information]']"
      ]
     },
     "execution_count": 20,
     "metadata": {},
     "output_type": "execute_result"
    }
   ],
   "source": [
    "data['rows'][0]"
   ]
  },
  {
   "cell_type": "code",
   "execution_count": null,
   "id": "ea5c3b0c",
   "metadata": {},
   "outputs": [],
   "source": [
    "class EmailReviewInterface:\n",
    "    def __init__(self):\n",
    "        self.current_index = 0\n",
    "        self.total_emails = len(df)\n",
    "        \n",
    "        # Create widgets\n",
    "        self.progress_text = widgets.HTML()\n",
    "        self.status_text = widgets.HTML()\n",
    "        self.model_text = widgets.HTML()\n",
    "        \n",
    "        # New fields for candidate info\n",
    "        self.name_input = widgets.Text(\n",
    "            description='Name:',\n",
    "            layout=widgets.Layout(width='300px')\n",
    "        )\n",
    "        \n",
    "        self.position_dropdown = widgets.Dropdown(\n",
    "            options=['', 'MLE', 'Data Engineer', 'Data Scientist', 'AI Engineer', 'Software Engineer'],\n",
    "            description='Position:',\n",
    "            layout=widgets.Layout(width='300px')\n",
    "        )\n",
    "        \n",
    "        self.role_level_dropdown = widgets.Dropdown(\n",
    "            options=['', 'Junior', 'Mid', 'Senior', 'Principal', 'Lead'],\n",
    "            description='Level:',\n",
    "            layout=widgets.Layout(width='300px')\n",
    "        )\n",
    "        \n",
    "        self.input_area = widgets.Textarea(\n",
    "            description='Input:',\n",
    "            disabled=True,\n",
    "            layout=widgets.Layout(width='95%', height='150px')\n",
    "        )\n",
    "        \n",
    "        self.output_area = widgets.Textarea(\n",
    "            description='Output:',\n",
    "            disabled=True,\n",
    "            layout=widgets.Layout(width='95%', height='150px')\n",
    "        )\n",
    "        \n",
    "        self.evaluation_dropdown = widgets.Dropdown(\n",
    "            options=['Not Evaluated', 'Good', 'Bad'],\n",
    "            description='Rating:',\n",
    "            layout=widgets.Layout(width='200px')\n",
    "        )\n",
    "        \n",
    "        self.comment_area = widgets.Textarea(\n",
    "            placeholder='Please explain your rating...',\n",
    "            description='Comment:',\n",
    "            layout=widgets.Layout(width='95%', height='100px')\n",
    "        )\n",
    "        \n",
    "        self.save_button = widgets.Button(\n",
    "            description='Save All',\n",
    "            button_style='success',\n",
    "            layout=widgets.Layout(width='150px')\n",
    "        )\n",
    "        \n",
    "        self.next_button = widgets.Button(\n",
    "            description='Next →',\n",
    "            button_style='primary',\n",
    "            disabled=True\n",
    "        )\n",
    "        \n",
    "        self.prev_button = widgets.Button(\n",
    "            description='← Previous',\n",
    "            button_style='primary',\n",
    "            disabled=True\n",
    "        )\n",
    "        \n",
    "        self.export_button = widgets.Button(\n",
    "            description='Export to CSV',\n",
    "            button_style='success',\n",
    "            layout=widgets.Layout(width='150px')\n",
    "        )\n",
    "        \n",
    "        # Set up callbacks\n",
    "        self.next_button.on_click(self.next_email)\n",
    "        self.prev_button.on_click(self.prev_email)\n",
    "        self.export_button.on_click(self.export_to_csv)\n",
    "        self.evaluation_dropdown.observe(self.on_evaluation_change, names='value')\n",
    "        self.save_button.on_click(self.save_all)\n",
    "        \n",
    "        # Initial display\n",
    "        self.update_display()\n",
    "    \n",
    "    def update_display(self):\n",
    "        clear_output(wait=True)\n",
    "        \n",
    "        # Update progress and buttons\n",
    "        progress = f\"Email {self.current_index + 1} of {self.total_emails}\"\n",
    "        self.progress_text.value = f\"<h3>{progress}</h3>\"\n",
    "        \n",
    "        row = df.iloc[self.current_index]\n",
    "        self.model_text.value = f\"<b>Model:</b> {row['model']}<br><br>\"\n",
    "        \n",
    "        # Update content\n",
    "        self.input_area.value = row['prompt']\n",
    "        self.output_area.value = row['response']\n",
    "        self.evaluation_dropdown.value = row['evaluation']\n",
    "        self.comment_area.value = row['comment']\n",
    "        self.name_input.value = row['candidate_name']\n",
    "        self.position_dropdown.value = row['position']\n",
    "        self.role_level_dropdown.value = row['role_level']\n",
    "        \n",
    "        # Update button states\n",
    "        self.prev_button.disabled = self.current_index == 0\n",
    "        self.next_button.disabled = (self.current_index == self.total_emails - 1) or \\\n",
    "                                   (self.evaluation_dropdown.value == 'Not Evaluated') or \\\n",
    "                                   (not df.at[self.current_index, 'comment'].strip())\n",
    "        \n",
    "        # Display all elements\n",
    "        display(self.progress_text)\n",
    "        display(self.model_text)\n",
    "        display(widgets.HBox([self.name_input]))\n",
    "        display(widgets.HBox([self.position_dropdown, self.role_level_dropdown]))\n",
    "        display(widgets.HTML(\"<br>\"))\n",
    "        display(self.input_area)\n",
    "        display(self.output_area)\n",
    "        display(widgets.HBox([self.evaluation_dropdown]))\n",
    "        display(self.comment_area)\n",
    "        display(widgets.HBox([self.save_button]))\n",
    "        display(widgets.HBox([self.prev_button, self.next_button]))\n",
    "        display(self.export_button)\n",
    "        \n",
    "        # Show completion status\n",
    "        evaluated = (df['evaluation'] != 'Not Evaluated').sum()\n",
    "        self.status_text.value = f\"<br>Progress: {evaluated}/{self.total_emails} emails evaluated\"\n",
    "        display(self.status_text)\n",
    "    \n",
    "    def next_email(self, b):\n",
    "        if self.current_index < self.total_emails - 1:\n",
    "            self.current_index += 1\n",
    "            self.update_display()\n",
    "    \n",
    "    def prev_email(self, b):\n",
    "        if self.current_index > 0:\n",
    "            self.current_index -= 1\n",
    "            self.update_display()\n",
    "    \n",
    "    def on_evaluation_change(self, change):\n",
    "        df.at[self.current_index, 'evaluation'] = change['new']\n",
    "        self.update_display()\n",
    "    \n",
    "    def save_all(self, b):\n",
    "        df.at[self.current_index, 'comment'] = self.comment_area.value\n",
    "        df.at[self.current_index, 'candidate_name'] = self.name_input.value\n",
    "        df.at[self.current_index, 'position'] = self.position_dropdown.value\n",
    "        df.at[self.current_index, 'role_level'] = self.role_level_dropdown.value\n",
    "        self.update_display()\n",
    "    \n",
    "    def export_to_csv(self, b):\n",
    "        # Update timestamp for current evaluation\n",
    "        df.at[self.current_index, 'timestamp'] = datetime.now().isoformat()\n",
    "        \n",
    "        # Save to CSV with proper escaping\n",
    "        df.to_csv('email_evaluations.csv', \n",
    "                 index=False, \n",
    "                 quoting=1,  # Quote all fields\n",
    "                 escapechar='\\')\n",
    "        \n",
    "        self.status_text.value = f\"<br><b>✓ Exported to email_evaluations.csv</b><br>\" + self.status_text.value\n",
    "        self.update_display()"
   ]
  },
  {
   "cell_type": "code",
   "execution_count": 30,
   "id": "e047487a",
   "metadata": {},
   "outputs": [
    {
     "data": {
      "application/vnd.jupyter.widget-view+json": {
       "model_id": "1d9a45a21e424c3293ec95a531ec3773",
       "version_major": 2,
       "version_minor": 0
      },
      "text/plain": [
       "HTML(value='<h3>Email 20 of 20</h3>')"
      ]
     },
     "metadata": {},
     "output_type": "display_data"
    },
    {
     "data": {
      "application/vnd.jupyter.widget-view+json": {
       "model_id": "cd55186425434e77ba538d3a0df69e8c",
       "version_major": 2,
       "version_minor": 0
      },
      "text/plain": [
       "HTML(value='<b>Model:</b> openai-gpt<br><br>')"
      ]
     },
     "metadata": {},
     "output_type": "display_data"
    },
    {
     "data": {
      "application/vnd.jupyter.widget-view+json": {
       "model_id": "c47a09f358e14043b9563d1103025ad8",
       "version_major": 2,
       "version_minor": 0
      },
      "text/plain": [
       "Textarea(value=\"\\n\\n    Extract the information from the PDF file, this is the information of the candidate. W…"
      ]
     },
     "metadata": {},
     "output_type": "display_data"
    },
    {
     "data": {
      "application/vnd.jupyter.widget-view+json": {
       "model_id": "bb0fa62da4c3428db02da9dbcb25518b",
       "version_major": 2,
       "version_minor": 0
      },
      "text/plain": [
       "Textarea(value='Subject: Exciting Data Engineering Opportunity Aligned with Your Expertise\\n\\nDear Mr. Reis,\\n…"
      ]
     },
     "metadata": {},
     "output_type": "display_data"
    },
    {
     "data": {
      "application/vnd.jupyter.widget-view+json": {
       "model_id": "9c33c02b65a947e7b5c4cc606b1de8a9",
       "version_major": 2,
       "version_minor": 0
      },
      "text/plain": [
       "HBox(children=(Dropdown(description='Rating:', index=2, layout=Layout(width='200px'), options=('Not Evaluated'…"
      ]
     },
     "metadata": {},
     "output_type": "display_data"
    },
    {
     "data": {
      "application/vnd.jupyter.widget-view+json": {
       "model_id": "7bbe711d50334f2d995860b30c63f55f",
       "version_major": 2,
       "version_minor": 0
      },
      "text/plain": [
       "Textarea(value=\"job role wasn't display at the begining\", description='Comment:', layout=Layout(height='100px'…"
      ]
     },
     "metadata": {},
     "output_type": "display_data"
    },
    {
     "data": {
      "application/vnd.jupyter.widget-view+json": {
       "model_id": "c8f1403632ab4976916b771ec82a4128",
       "version_major": 2,
       "version_minor": 0
      },
      "text/plain": [
       "HBox(children=(Button(button_style='info', description='Save Comment', layout=Layout(width='150px'), style=But…"
      ]
     },
     "metadata": {},
     "output_type": "display_data"
    },
    {
     "data": {
      "application/vnd.jupyter.widget-view+json": {
       "model_id": "3cd589ceb4114e39943a9b82ccb4f3a6",
       "version_major": 2,
       "version_minor": 0
      },
      "text/plain": [
       "HBox(children=(Button(button_style='primary', description='← Previous', style=ButtonStyle()), Button(button_st…"
      ]
     },
     "metadata": {},
     "output_type": "display_data"
    },
    {
     "data": {
      "application/vnd.jupyter.widget-view+json": {
       "model_id": "525223ecdbe345fc85f714fce86a05d2",
       "version_major": 2,
       "version_minor": 0
      },
      "text/plain": [
       "Button(button_style='success', description='Export to CSV', layout=Layout(width='150px'), style=ButtonStyle())"
      ]
     },
     "metadata": {},
     "output_type": "display_data"
    },
    {
     "data": {
      "application/vnd.jupyter.widget-view+json": {
       "model_id": "1e3a2de9b6774776b518b8cca8d503dc",
       "version_major": 2,
       "version_minor": 0
      },
      "text/plain": [
       "HTML(value='<br>Progress: 20/20 emails evaluated')"
      ]
     },
     "metadata": {},
     "output_type": "display_data"
    }
   ],
   "source": [
    "# Initialize the interface\n",
    "review_interface = EmailReviewInterface()"
   ]
  },
  {
   "cell_type": "code",
   "execution_count": 5,
   "id": "451473ec",
   "metadata": {},
   "outputs": [],
   "source": [
    "import pandas as pd\n",
    "evals = pd.read_csv('email_evaluations.csv')"
   ]
  },
  {
   "cell_type": "code",
   "execution_count": 6,
   "id": "69a1fd9f",
   "metadata": {},
   "outputs": [
    {
     "name": "stderr",
     "output_type": "stream",
     "text": [
      "/tmp/ipykernel_3827/237969098.py:20: UserWarning: No artists with labels found to put in legend.  Note that artists whose label start with an underscore are ignored when legend() is called with no argument.\n",
      "  plt.legend(title='Evaluation')\n"
     ]
    },
    {
     "data": {
      "image/png": "[encoded data removed]",
      "text/plain": [
       "<Figure size 1000x600 with 1 Axes>"
      ]
     },
     "metadata": {},
     "output_type": "display_data"
    }
   ],
   "source": [
    "import matplotlib.pyplot as plt\n",
    "# Group by model and evaluation, then count occurrences and express as percentage\n",
    "evaluation_summary = evals.groupby(['model', 'evaluation']).size().unstack(fill_value=0)\n",
    "evaluation_summary = evaluation_summary.div(evaluation_summary.sum(axis=1), axis=0) * 100\n",
    "# Reset the index to make 'model' a column\n",
    "evaluation_summary.reset_index(inplace=True)\n",
    "# Set the model as the index for better plotting\n",
    "evaluation_summary.set_index('model', inplace=True)\n",
    "# Transpose the DataFrame for better plotting\n",
    "evaluation_summary = evaluation_summary.transpose()\n",
    "# Set the color palette\n",
    "colors = ['#FF9999', '#66B3FF', '#99FF99']\n",
    "# Create the bar plot\n",
    "plt.figure(figsize=(10, 6))\n",
    "evaluation_summary.unstack().plot(kind='bar')\n",
    "plt.title('Evaluation Results by Model')\n",
    "plt.xlabel('Model')\n",
    "plt.ylabel('Percentage (%)')\n",
    "plt.xticks(rotation=0)\n",
    "plt.legend(title='Evaluation')\n",
    "plt.tight_layout()\n",
    "plt.show()"
   ]
  },
  {
   "cell_type": "code",
   "execution_count": null,
   "id": "30cc0501",
   "metadata": {},
   "outputs": [],
   "source": []
  }
 ],
 "metadata": {
  "kernelspec": {
   "display_name": ".venv",
   "language": "python",
   "name": "python3"
  },
  "language_info": {
   "codemirror_mode": {
    "name": "ipython",
    "version": 3
   },
   "file_extension": ".py",
   "mimetype": "text/x-python",
   "name": "python",
   "nbconvert_exporter": "python",
   "pygments_lexer": "ipython3",
   "version": "3.12.1"
  }
 },
 "nbformat": 4,
 "nbformat_minor": 5
}
